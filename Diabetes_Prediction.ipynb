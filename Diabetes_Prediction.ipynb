{
  "nbformat": 4,
  "nbformat_minor": 0,
  "metadata": {
    "colab": {
      "provenance": []
    },
    "kernelspec": {
      "name": "python3",
      "display_name": "Python 3"
    },
    "language_info": {
      "name": "python"
    }
  },
  "cells": [
    {
      "cell_type": "code",
      "execution_count": 7,
      "metadata": {
        "id": "amSN4ssqVBHW"
      },
      "outputs": [],
      "source": [
        "import pandas as pd\n",
        "import numpy as np\n",
        "import matplotlib.pyplot as plt\n",
        "import tensorflow as tf\n",
        "import seaborn as sns"
      ]
    },
    {
      "cell_type": "code",
      "source": [
        "data=pd.read_csv(\"/content/diabetes.csv\")"
      ],
      "metadata": {
        "id": "LeVT2LxeVL9l"
      },
      "execution_count": 3,
      "outputs": []
    },
    {
      "cell_type": "code",
      "source": [
        "data"
      ],
      "metadata": {
        "colab": {
          "base_uri": "https://localhost:8080/",
          "height": 423
        },
        "id": "GLnKOsFQVWSM",
        "outputId": "f32f19b3-c303-4732-f324-c39c3be8ad99"
      },
      "execution_count": 4,
      "outputs": [
        {
          "output_type": "execute_result",
          "data": {
            "text/plain": [
              "     Pregnancies  Glucose  BloodPressure  SkinThickness  Insulin   BMI  \\\n",
              "0              6      148             72             35        0  33.6   \n",
              "1              1       85             66             29        0  26.6   \n",
              "2              8      183             64              0        0  23.3   \n",
              "3              1       89             66             23       94  28.1   \n",
              "4              0      137             40             35      168  43.1   \n",
              "..           ...      ...            ...            ...      ...   ...   \n",
              "763           10      101             76             48      180  32.9   \n",
              "764            2      122             70             27        0  36.8   \n",
              "765            5      121             72             23      112  26.2   \n",
              "766            1      126             60              0        0  30.1   \n",
              "767            1       93             70             31        0  30.4   \n",
              "\n",
              "     DiabetesPedigreeFunction  Age  Outcome  \n",
              "0                       0.627   50        1  \n",
              "1                       0.351   31        0  \n",
              "2                       0.672   32        1  \n",
              "3                       0.167   21        0  \n",
              "4                       2.288   33        1  \n",
              "..                        ...  ...      ...  \n",
              "763                     0.171   63        0  \n",
              "764                     0.340   27        0  \n",
              "765                     0.245   30        0  \n",
              "766                     0.349   47        1  \n",
              "767                     0.315   23        0  \n",
              "\n",
              "[768 rows x 9 columns]"
            ],
            "text/html": [
              "\n",
              "\n",
              "  <div id=\"df-9fddda0c-d30e-4d9e-9a8d-520ed538d39e\">\n",
              "    <div class=\"colab-df-container\">\n",
              "      <div>\n",
              "<style scoped>\n",
              "    .dataframe tbody tr th:only-of-type {\n",
              "        vertical-align: middle;\n",
              "    }\n",
              "\n",
              "    .dataframe tbody tr th {\n",
              "        vertical-align: top;\n",
              "    }\n",
              "\n",
              "    .dataframe thead th {\n",
              "        text-align: right;\n",
              "    }\n",
              "</style>\n",
              "<table border=\"1\" class=\"dataframe\">\n",
              "  <thead>\n",
              "    <tr style=\"text-align: right;\">\n",
              "      <th></th>\n",
              "      <th>Pregnancies</th>\n",
              "      <th>Glucose</th>\n",
              "      <th>BloodPressure</th>\n",
              "      <th>SkinThickness</th>\n",
              "      <th>Insulin</th>\n",
              "      <th>BMI</th>\n",
              "      <th>DiabetesPedigreeFunction</th>\n",
              "      <th>Age</th>\n",
              "      <th>Outcome</th>\n",
              "    </tr>\n",
              "  </thead>\n",
              "  <tbody>\n",
              "    <tr>\n",
              "      <th>0</th>\n",
              "      <td>6</td>\n",
              "      <td>148</td>\n",
              "      <td>72</td>\n",
              "      <td>35</td>\n",
              "      <td>0</td>\n",
              "      <td>33.6</td>\n",
              "      <td>0.627</td>\n",
              "      <td>50</td>\n",
              "      <td>1</td>\n",
              "    </tr>\n",
              "    <tr>\n",
              "      <th>1</th>\n",
              "      <td>1</td>\n",
              "      <td>85</td>\n",
              "      <td>66</td>\n",
              "      <td>29</td>\n",
              "      <td>0</td>\n",
              "      <td>26.6</td>\n",
              "      <td>0.351</td>\n",
              "      <td>31</td>\n",
              "      <td>0</td>\n",
              "    </tr>\n",
              "    <tr>\n",
              "      <th>2</th>\n",
              "      <td>8</td>\n",
              "      <td>183</td>\n",
              "      <td>64</td>\n",
              "      <td>0</td>\n",
              "      <td>0</td>\n",
              "      <td>23.3</td>\n",
              "      <td>0.672</td>\n",
              "      <td>32</td>\n",
              "      <td>1</td>\n",
              "    </tr>\n",
              "    <tr>\n",
              "      <th>3</th>\n",
              "      <td>1</td>\n",
              "      <td>89</td>\n",
              "      <td>66</td>\n",
              "      <td>23</td>\n",
              "      <td>94</td>\n",
              "      <td>28.1</td>\n",
              "      <td>0.167</td>\n",
              "      <td>21</td>\n",
              "      <td>0</td>\n",
              "    </tr>\n",
              "    <tr>\n",
              "      <th>4</th>\n",
              "      <td>0</td>\n",
              "      <td>137</td>\n",
              "      <td>40</td>\n",
              "      <td>35</td>\n",
              "      <td>168</td>\n",
              "      <td>43.1</td>\n",
              "      <td>2.288</td>\n",
              "      <td>33</td>\n",
              "      <td>1</td>\n",
              "    </tr>\n",
              "    <tr>\n",
              "      <th>...</th>\n",
              "      <td>...</td>\n",
              "      <td>...</td>\n",
              "      <td>...</td>\n",
              "      <td>...</td>\n",
              "      <td>...</td>\n",
              "      <td>...</td>\n",
              "      <td>...</td>\n",
              "      <td>...</td>\n",
              "      <td>...</td>\n",
              "    </tr>\n",
              "    <tr>\n",
              "      <th>763</th>\n",
              "      <td>10</td>\n",
              "      <td>101</td>\n",
              "      <td>76</td>\n",
              "      <td>48</td>\n",
              "      <td>180</td>\n",
              "      <td>32.9</td>\n",
              "      <td>0.171</td>\n",
              "      <td>63</td>\n",
              "      <td>0</td>\n",
              "    </tr>\n",
              "    <tr>\n",
              "      <th>764</th>\n",
              "      <td>2</td>\n",
              "      <td>122</td>\n",
              "      <td>70</td>\n",
              "      <td>27</td>\n",
              "      <td>0</td>\n",
              "      <td>36.8</td>\n",
              "      <td>0.340</td>\n",
              "      <td>27</td>\n",
              "      <td>0</td>\n",
              "    </tr>\n",
              "    <tr>\n",
              "      <th>765</th>\n",
              "      <td>5</td>\n",
              "      <td>121</td>\n",
              "      <td>72</td>\n",
              "      <td>23</td>\n",
              "      <td>112</td>\n",
              "      <td>26.2</td>\n",
              "      <td>0.245</td>\n",
              "      <td>30</td>\n",
              "      <td>0</td>\n",
              "    </tr>\n",
              "    <tr>\n",
              "      <th>766</th>\n",
              "      <td>1</td>\n",
              "      <td>126</td>\n",
              "      <td>60</td>\n",
              "      <td>0</td>\n",
              "      <td>0</td>\n",
              "      <td>30.1</td>\n",
              "      <td>0.349</td>\n",
              "      <td>47</td>\n",
              "      <td>1</td>\n",
              "    </tr>\n",
              "    <tr>\n",
              "      <th>767</th>\n",
              "      <td>1</td>\n",
              "      <td>93</td>\n",
              "      <td>70</td>\n",
              "      <td>31</td>\n",
              "      <td>0</td>\n",
              "      <td>30.4</td>\n",
              "      <td>0.315</td>\n",
              "      <td>23</td>\n",
              "      <td>0</td>\n",
              "    </tr>\n",
              "  </tbody>\n",
              "</table>\n",
              "<p>768 rows × 9 columns</p>\n",
              "</div>\n",
              "      <button class=\"colab-df-convert\" onclick=\"convertToInteractive('df-9fddda0c-d30e-4d9e-9a8d-520ed538d39e')\"\n",
              "              title=\"Convert this dataframe to an interactive table.\"\n",
              "              style=\"display:none;\">\n",
              "\n",
              "  <svg xmlns=\"http://www.w3.org/2000/svg\" height=\"24px\"viewBox=\"0 0 24 24\"\n",
              "       width=\"24px\">\n",
              "    <path d=\"M0 0h24v24H0V0z\" fill=\"none\"/>\n",
              "    <path d=\"M18.56 5.44l.94 2.06.94-2.06 2.06-.94-2.06-.94-.94-2.06-.94 2.06-2.06.94zm-11 1L8.5 8.5l.94-2.06 2.06-.94-2.06-.94L8.5 2.5l-.94 2.06-2.06.94zm10 10l.94 2.06.94-2.06 2.06-.94-2.06-.94-.94-2.06-.94 2.06-2.06.94z\"/><path d=\"M17.41 7.96l-1.37-1.37c-.4-.4-.92-.59-1.43-.59-.52 0-1.04.2-1.43.59L10.3 9.45l-7.72 7.72c-.78.78-.78 2.05 0 2.83L4 21.41c.39.39.9.59 1.41.59.51 0 1.02-.2 1.41-.59l7.78-7.78 2.81-2.81c.8-.78.8-2.07 0-2.86zM5.41 20L4 18.59l7.72-7.72 1.47 1.35L5.41 20z\"/>\n",
              "  </svg>\n",
              "      </button>\n",
              "\n",
              "\n",
              "\n",
              "    <div id=\"df-1feba291-0794-439f-a0be-7394d141f0ca\">\n",
              "      <button class=\"colab-df-quickchart\" onclick=\"quickchart('df-1feba291-0794-439f-a0be-7394d141f0ca')\"\n",
              "              title=\"Suggest charts.\"\n",
              "              style=\"display:none;\">\n",
              "\n",
              "<svg xmlns=\"http://www.w3.org/2000/svg\" height=\"24px\"viewBox=\"0 0 24 24\"\n",
              "     width=\"24px\">\n",
              "    <g>\n",
              "        <path d=\"M19 3H5c-1.1 0-2 .9-2 2v14c0 1.1.9 2 2 2h14c1.1 0 2-.9 2-2V5c0-1.1-.9-2-2-2zM9 17H7v-7h2v7zm4 0h-2V7h2v10zm4 0h-2v-4h2v4z\"/>\n",
              "    </g>\n",
              "</svg>\n",
              "      </button>\n",
              "    </div>\n",
              "\n",
              "<style>\n",
              "  .colab-df-quickchart {\n",
              "    background-color: #E8F0FE;\n",
              "    border: none;\n",
              "    border-radius: 50%;\n",
              "    cursor: pointer;\n",
              "    display: none;\n",
              "    fill: #1967D2;\n",
              "    height: 32px;\n",
              "    padding: 0 0 0 0;\n",
              "    width: 32px;\n",
              "  }\n",
              "\n",
              "  .colab-df-quickchart:hover {\n",
              "    background-color: #E2EBFA;\n",
              "    box-shadow: 0px 1px 2px rgba(60, 64, 67, 0.3), 0px 1px 3px 1px rgba(60, 64, 67, 0.15);\n",
              "    fill: #174EA6;\n",
              "  }\n",
              "\n",
              "  [theme=dark] .colab-df-quickchart {\n",
              "    background-color: #3B4455;\n",
              "    fill: #D2E3FC;\n",
              "  }\n",
              "\n",
              "  [theme=dark] .colab-df-quickchart:hover {\n",
              "    background-color: #434B5C;\n",
              "    box-shadow: 0px 1px 3px 1px rgba(0, 0, 0, 0.15);\n",
              "    filter: drop-shadow(0px 1px 2px rgba(0, 0, 0, 0.3));\n",
              "    fill: #FFFFFF;\n",
              "  }\n",
              "</style>\n",
              "\n",
              "    <script>\n",
              "      async function quickchart(key) {\n",
              "        const containerElement = document.querySelector('#' + key);\n",
              "        const charts = await google.colab.kernel.invokeFunction(\n",
              "            'suggestCharts', [key], {});\n",
              "      }\n",
              "    </script>\n",
              "\n",
              "      <script>\n",
              "\n",
              "function displayQuickchartButton(domScope) {\n",
              "  let quickchartButtonEl =\n",
              "    domScope.querySelector('#df-1feba291-0794-439f-a0be-7394d141f0ca button.colab-df-quickchart');\n",
              "  quickchartButtonEl.style.display =\n",
              "    google.colab.kernel.accessAllowed ? 'block' : 'none';\n",
              "}\n",
              "\n",
              "        displayQuickchartButton(document);\n",
              "      </script>\n",
              "      <style>\n",
              "    .colab-df-container {\n",
              "      display:flex;\n",
              "      flex-wrap:wrap;\n",
              "      gap: 12px;\n",
              "    }\n",
              "\n",
              "    .colab-df-convert {\n",
              "      background-color: #E8F0FE;\n",
              "      border: none;\n",
              "      border-radius: 50%;\n",
              "      cursor: pointer;\n",
              "      display: none;\n",
              "      fill: #1967D2;\n",
              "      height: 32px;\n",
              "      padding: 0 0 0 0;\n",
              "      width: 32px;\n",
              "    }\n",
              "\n",
              "    .colab-df-convert:hover {\n",
              "      background-color: #E2EBFA;\n",
              "      box-shadow: 0px 1px 2px rgba(60, 64, 67, 0.3), 0px 1px 3px 1px rgba(60, 64, 67, 0.15);\n",
              "      fill: #174EA6;\n",
              "    }\n",
              "\n",
              "    [theme=dark] .colab-df-convert {\n",
              "      background-color: #3B4455;\n",
              "      fill: #D2E3FC;\n",
              "    }\n",
              "\n",
              "    [theme=dark] .colab-df-convert:hover {\n",
              "      background-color: #434B5C;\n",
              "      box-shadow: 0px 1px 3px 1px rgba(0, 0, 0, 0.15);\n",
              "      filter: drop-shadow(0px 1px 2px rgba(0, 0, 0, 0.3));\n",
              "      fill: #FFFFFF;\n",
              "    }\n",
              "  </style>\n",
              "\n",
              "      <script>\n",
              "        const buttonEl =\n",
              "          document.querySelector('#df-9fddda0c-d30e-4d9e-9a8d-520ed538d39e button.colab-df-convert');\n",
              "        buttonEl.style.display =\n",
              "          google.colab.kernel.accessAllowed ? 'block' : 'none';\n",
              "\n",
              "        async function convertToInteractive(key) {\n",
              "          const element = document.querySelector('#df-9fddda0c-d30e-4d9e-9a8d-520ed538d39e');\n",
              "          const dataTable =\n",
              "            await google.colab.kernel.invokeFunction('convertToInteractive',\n",
              "                                                     [key], {});\n",
              "          if (!dataTable) return;\n",
              "\n",
              "          const docLinkHtml = 'Like what you see? Visit the ' +\n",
              "            '<a target=\"_blank\" href=https://colab.research.google.com/notebooks/data_table.ipynb>data table notebook</a>'\n",
              "            + ' to learn more about interactive tables.';\n",
              "          element.innerHTML = '';\n",
              "          dataTable['output_type'] = 'display_data';\n",
              "          await google.colab.output.renderOutput(dataTable, element);\n",
              "          const docLink = document.createElement('div');\n",
              "          docLink.innerHTML = docLinkHtml;\n",
              "          element.appendChild(docLink);\n",
              "        }\n",
              "      </script>\n",
              "    </div>\n",
              "  </div>\n"
            ]
          },
          "metadata": {},
          "execution_count": 4
        }
      ]
    },
    {
      "cell_type": "code",
      "source": [
        "data.shape"
      ],
      "metadata": {
        "colab": {
          "base_uri": "https://localhost:8080/"
        },
        "id": "9PihdCatVZG7",
        "outputId": "bb8bdd20-98d9-449a-ed07-dfc576af09ec"
      },
      "execution_count": 5,
      "outputs": [
        {
          "output_type": "execute_result",
          "data": {
            "text/plain": [
              "(768, 9)"
            ]
          },
          "metadata": {},
          "execution_count": 5
        }
      ]
    },
    {
      "cell_type": "code",
      "source": [
        "data.info"
      ],
      "metadata": {
        "colab": {
          "base_uri": "https://localhost:8080/"
        },
        "id": "qhNUj2A6Vj4B",
        "outputId": "7196b348-7934-4b69-8ec1-9fbbbe75e722"
      },
      "execution_count": 6,
      "outputs": [
        {
          "output_type": "execute_result",
          "data": {
            "text/plain": [
              "<bound method DataFrame.info of      Pregnancies  Glucose  BloodPressure  SkinThickness  Insulin   BMI  \\\n",
              "0              6      148             72             35        0  33.6   \n",
              "1              1       85             66             29        0  26.6   \n",
              "2              8      183             64              0        0  23.3   \n",
              "3              1       89             66             23       94  28.1   \n",
              "4              0      137             40             35      168  43.1   \n",
              "..           ...      ...            ...            ...      ...   ...   \n",
              "763           10      101             76             48      180  32.9   \n",
              "764            2      122             70             27        0  36.8   \n",
              "765            5      121             72             23      112  26.2   \n",
              "766            1      126             60              0        0  30.1   \n",
              "767            1       93             70             31        0  30.4   \n",
              "\n",
              "     DiabetesPedigreeFunction  Age  Outcome  \n",
              "0                       0.627   50        1  \n",
              "1                       0.351   31        0  \n",
              "2                       0.672   32        1  \n",
              "3                       0.167   21        0  \n",
              "4                       2.288   33        1  \n",
              "..                        ...  ...      ...  \n",
              "763                     0.171   63        0  \n",
              "764                     0.340   27        0  \n",
              "765                     0.245   30        0  \n",
              "766                     0.349   47        1  \n",
              "767                     0.315   23        0  \n",
              "\n",
              "[768 rows x 9 columns]>"
            ]
          },
          "metadata": {},
          "execution_count": 6
        }
      ]
    },
    {
      "cell_type": "code",
      "source": [
        "cor=data.drop(columns=\"Outcome\").corr()\n",
        "\n",
        "sns.heatmap(cor)"
      ],
      "metadata": {
        "colab": {
          "base_uri": "https://localhost:8080/",
          "height": 620
        },
        "id": "KXiSzvnqVlx_",
        "outputId": "a2f8b0e3-45d5-4df6-d325-14d12435e6b2"
      },
      "execution_count": 14,
      "outputs": [
        {
          "output_type": "execute_result",
          "data": {
            "text/plain": [
              "<Axes: >"
            ]
          },
          "metadata": {},
          "execution_count": 14
        },
        {
          "output_type": "display_data",
          "data": {
            "text/plain": [
              "<Figure size 640x480 with 2 Axes>"
            ],
            "image/png": "[encoded data removed]"
          },
          "metadata": {}
        }
      ]
    },
    {
      "cell_type": "code",
      "source": [
        "plt.hist(data['Outcome'], bins=25, alpha=0.45, color='red')\n",
        "plt.hist(data['Age'], bins=25, alpha=0.45, color='blue')\n",
        "\n",
        "\n",
        "\n",
        "\n",
        "plt.show()"
      ],
      "metadata": {
        "colab": {
          "base_uri": "https://localhost:8080/",
          "height": 430
        },
        "id": "khGSvQ_pV9Iu",
        "outputId": "a14167bf-b380-4021-9f71-558528bc7ab6"
      },
      "execution_count": 16,
      "outputs": [
        {
          "output_type": "display_data",
          "data": {
            "text/plain": [
              "<Figure size 640x480 with 1 Axes>"
            ],
            "image/png": "[encoded data removed]"
          },
          "metadata": {}
        }
      ]
    },
    {
      "cell_type": "markdown",
      "source": [
        "##Train Test Split"
      ],
      "metadata": {
        "id": "cnDtJyQdXLnr"
      }
    },
    {
      "cell_type": "code",
      "source": [
        "from sklearn.model_selection import train_test_split\n",
        "target=data[\"Outcome\"]"
      ],
      "metadata": {
        "id": "HGILh9haXXB3"
      },
      "execution_count": 19,
      "outputs": []
    },
    {
      "cell_type": "code",
      "source": [
        "target"
      ],
      "metadata": {
        "colab": {
          "base_uri": "https://localhost:8080/"
        },
        "id": "_PryGO99XhTS",
        "outputId": "f9fa4719-4bfc-40bd-e5b7-0aed9536ccf7"
      },
      "execution_count": 20,
      "outputs": [
        {
          "output_type": "execute_result",
          "data": {
            "text/plain": [
              "0      1\n",
              "1      0\n",
              "2      1\n",
              "3      0\n",
              "4      1\n",
              "      ..\n",
              "763    0\n",
              "764    0\n",
              "765    0\n",
              "766    1\n",
              "767    0\n",
              "Name: Outcome, Length: 768, dtype: int64"
            ]
          },
          "metadata": {},
          "execution_count": 20
        }
      ]
    },
    {
      "cell_type": "code",
      "source": [
        "x=data.drop([\"Outcome\"],axis=1)\n"
      ],
      "metadata": {
        "id": "lzjMEdZgXj4S"
      },
      "execution_count": 24,
      "outputs": []
    },
    {
      "cell_type": "code",
      "source": [
        "y=data[\"Outcome\"]"
      ],
      "metadata": {
        "id": "YZkpnGM1X7e_"
      },
      "execution_count": 25,
      "outputs": []
    },
    {
      "cell_type": "code",
      "source": [
        "xtrain,xtest,ytrain,ytest=train_test_split(x,y,test_size=0.33)"
      ],
      "metadata": {
        "id": "hYQBMkYPYOgr"
      },
      "execution_count": 65,
      "outputs": []
    },
    {
      "cell_type": "code",
      "source": [
        "xtrain"
      ],
      "metadata": {
        "colab": {
          "base_uri": "https://localhost:8080/"
        },
        "id": "AzJl4NtBYX5L",
        "outputId": "6a768e29-a0fb-46b7-dd44-b37e061b0397"
      },
      "execution_count": 66,
      "outputs": [
        {
          "output_type": "execute_result",
          "data": {
            "text/plain": [
              "((514, 8), (514,))"
            ]
          },
          "metadata": {},
          "execution_count": 66
        }
      ]
    },
    {
      "cell_type": "code",
      "source": [
        "xtest.shape,ytest.shape"
      ],
      "metadata": {
        "colab": {
          "base_uri": "https://localhost:8080/"
        },
        "id": "TBo6EtVqYafs",
        "outputId": "a9eab519-55f0-46fa-a052-95e9bce99f1f"
      },
      "execution_count": 67,
      "outputs": [
        {
          "output_type": "execute_result",
          "data": {
            "text/plain": [
              "((254, 8), (254,))"
            ]
          },
          "metadata": {},
          "execution_count": 67
        }
      ]
    },
    {
      "cell_type": "code",
      "source": [
        "plt.figure( figsize = (12,6))\n",
        "plt.scatter(xtrain, ytrain, c='b', label = 'Training data')\n",
        "plt.scatter(xtest, ytest, c='g', label='Testing data')\n",
        "plt.legend()"
      ],
      "metadata": {
        "colab": {
          "base_uri": "https://localhost:8080/",
          "height": 235
        },
        "id": "QO2pIDgwcx6R",
        "outputId": "1402e56d-760a-4e00-8da6-d3e1d0c12962"
      },
      "execution_count": 69,
      "outputs": [
        {
          "output_type": "error",
          "ename": "TypeError",
          "evalue": "ignored",
          "traceback": [
            "\u001b[0;31m---------------------------------------------------------------------------\u001b[0m",
            "\u001b[0;31mTypeError\u001b[0m                                 Traceback (most recent call last)",
            "\u001b[0;32m<ipython-input-69-c2aa741fbc44>\u001b[0m in \u001b[0;36m<cell line: 2>\u001b[0;34m()\u001b[0m\n\u001b[1;32m      1\u001b[0m \u001b[0mplt\u001b[0m\u001b[0;34m.\u001b[0m\u001b[0mfigure\u001b[0m\u001b[0;34m(\u001b[0m \u001b[0mfigsize\u001b[0m \u001b[0;34m=\u001b[0m \u001b[0;34m(\u001b[0m\u001b[0;36m12\u001b[0m\u001b[0;34m,\u001b[0m\u001b[0;36m6\u001b[0m\u001b[0;34m)\u001b[0m\u001b[0;34m)\u001b[0m\u001b[0;34m\u001b[0m\u001b[0;34m\u001b[0m\u001b[0m\n\u001b[0;32m----> 2\u001b[0;31m \u001b[0mplt\u001b[0m\u001b[0;34m.\u001b[0m\u001b[0mscatter\u001b[0m\u001b[0;34m(\u001b[0m\u001b[0mxtrain\u001b[0m\u001b[0;34m,\u001b[0m \u001b[0mc\u001b[0m\u001b[0;34m=\u001b[0m\u001b[0;34m'b'\u001b[0m\u001b[0;34m,\u001b[0m \u001b[0mlabel\u001b[0m \u001b[0;34m=\u001b[0m \u001b[0;34m'Training data'\u001b[0m\u001b[0;34m)\u001b[0m\u001b[0;34m\u001b[0m\u001b[0;34m\u001b[0m\u001b[0m\n\u001b[0m\u001b[1;32m      3\u001b[0m \u001b[0mplt\u001b[0m\u001b[0;34m.\u001b[0m\u001b[0mscatter\u001b[0m\u001b[0;34m(\u001b[0m\u001b[0mxtest\u001b[0m\u001b[0;34m,\u001b[0m \u001b[0mc\u001b[0m\u001b[0;34m=\u001b[0m\u001b[0;34m'g'\u001b[0m\u001b[0;34m,\u001b[0m \u001b[0mlabel\u001b[0m\u001b[0;34m=\u001b[0m\u001b[0;34m'Testing data'\u001b[0m\u001b[0;34m)\u001b[0m\u001b[0;34m\u001b[0m\u001b[0;34m\u001b[0m\u001b[0m\n\u001b[1;32m      4\u001b[0m \u001b[0mplt\u001b[0m\u001b[0;34m.\u001b[0m\u001b[0mlegend\u001b[0m\u001b[0;34m(\u001b[0m\u001b[0;34m)\u001b[0m\u001b[0;34m\u001b[0m\u001b[0;34m\u001b[0m\u001b[0m\n",
            "\u001b[0;31mTypeError\u001b[0m: scatter() missing 1 required positional argument: 'y'"
          ]
        },
        {
          "output_type": "display_data",
          "data": {
            "text/plain": [
              "<Figure size 1200x600 with 0 Axes>"
            ]
          },
          "metadata": {}
        }
      ]
    },
    {
      "cell_type": "code",
      "source": [
        "model=tf.keras.Sequential([\n",
        "    tf.keras.layers.Dense(6,activation=\"sigmoid\"),\n",
        "    tf.keras.layers.Dense(1,activation=\"relu\")\n",
        "\n",
        "])"
      ],
      "metadata": {
        "id": "W-xyWXOHYcvR"
      },
      "execution_count": 53,
      "outputs": []
    },
    {
      "cell_type": "code",
      "source": [
        "model.compile(loss=tf.keras.losses.mae,optimizer=tf.keras.optimizers.SGD(),metrics=[\"mae\"])"
      ],
      "metadata": {
        "id": "E6dgNqe6ZWlv"
      },
      "execution_count": 156,
      "outputs": []
    },
    {
      "cell_type": "code",
      "source": [
        "history=model.fit(xtrain,ytrain,epochs=20)"
      ],
      "metadata": {
        "colab": {
          "base_uri": "https://localhost:8080/"
        },
        "id": "09T6aMqTZq1U",
        "outputId": "f1694834-f391-4f23-9fda-bbee1e69b15c"
      },
      "execution_count": 157,
      "outputs": [
        {
          "output_type": "stream",
          "name": "stdout",
          "text": [
            "Epoch 1/20\n",
            "20/20 [==============================] - 1s 5ms/step - loss: 0.3443 - mae: 0.3443\n",
            "Epoch 2/20\n",
            "20/20 [==============================] - 0s 3ms/step - loss: 0.3456 - mae: 0.3456\n",
            "Epoch 3/20\n",
            "20/20 [==============================] - 0s 3ms/step - loss: 0.3440 - mae: 0.3440\n",
            "Epoch 4/20\n",
            "20/20 [==============================] - 0s 2ms/step - loss: 0.3436 - mae: 0.3436\n",
            "Epoch 5/20\n",
            "20/20 [==============================] - 0s 2ms/step - loss: 0.3432 - mae: 0.3432\n",
            "Epoch 6/20\n",
            "20/20 [==============================] - 0s 2ms/step - loss: 0.3432 - mae: 0.3432\n",
            "Epoch 7/20\n",
            "20/20 [==============================] - 0s 2ms/step - loss: 0.3435 - mae: 0.3435\n",
            "Epoch 8/20\n",
            "20/20 [==============================] - 0s 2ms/step - loss: 0.3431 - mae: 0.3431\n",
            "Epoch 9/20\n",
            "20/20 [==============================] - 0s 2ms/step - loss: 0.3432 - mae: 0.3432\n",
            "Epoch 10/20\n",
            "20/20 [==============================] - 0s 2ms/step - loss: 0.3426 - mae: 0.3426\n",
            "Epoch 11/20\n",
            "20/20 [==============================] - 0s 2ms/step - loss: 0.3430 - mae: 0.3430\n",
            "Epoch 12/20\n",
            "20/20 [==============================] - 0s 2ms/step - loss: 0.3427 - mae: 0.3427\n",
            "Epoch 13/20\n",
            "20/20 [==============================] - 0s 2ms/step - loss: 0.3430 - mae: 0.3430\n",
            "Epoch 14/20\n",
            "20/20 [==============================] - 0s 2ms/step - loss: 0.3435 - mae: 0.3435\n",
            "Epoch 15/20\n",
            "20/20 [==============================] - 0s 2ms/step - loss: 0.3432 - mae: 0.3432\n",
            "Epoch 16/20\n",
            "20/20 [==============================] - 0s 2ms/step - loss: 0.3429 - mae: 0.3429\n",
            "Epoch 17/20\n",
            "20/20 [==============================] - 0s 2ms/step - loss: 0.3428 - mae: 0.3428\n",
            "Epoch 18/20\n",
            "20/20 [==============================] - 0s 2ms/step - loss: 0.3423 - mae: 0.3423\n",
            "Epoch 19/20\n",
            "20/20 [==============================] - 0s 3ms/step - loss: 0.3423 - mae: 0.3423\n",
            "Epoch 20/20\n",
            "20/20 [==============================] - 0s 3ms/step - loss: 0.3429 - mae: 0.3429\n"
          ]
        }
      ]
    },
    {
      "cell_type": "code",
      "source": [
        "model.evaluate(xtest,ytest)"
      ],
      "metadata": {
        "colab": {
          "base_uri": "https://localhost:8080/"
        },
        "id": "v_wlMbE2abES",
        "outputId": "d7b73b95-2a25-4213-f9b6-c4cea3fe3056"
      },
      "execution_count": 158,
      "outputs": [
        {
          "output_type": "stream",
          "name": "stdout",
          "text": [
            "5/5 [==============================] - 0s 5ms/step - loss: 0.3482 - mae: 0.3482\n"
          ]
        },
        {
          "output_type": "execute_result",
          "data": {
            "text/plain": [
              "[0.3481765687465668, 0.3481765687465668]"
            ]
          },
          "metadata": {},
          "execution_count": 158
        }
      ]
    },
    {
      "cell_type": "markdown",
      "source": [
        "##Using a Different Model"
      ],
      "metadata": {
        "id": "NJbinr5tafzm"
      }
    },
    {
      "cell_type": "code",
      "source": [
        "model1=tf.keras.Sequential([\n",
        "    tf.keras.layers.Dense(1,activation=\"sigmoid\"),\n",
        "    tf.keras.layers.Dense(1,activation=\"relu\")\n",
        "\n",
        "])"
      ],
      "metadata": {
        "id": "LosQffgTassq"
      },
      "execution_count": 98,
      "outputs": []
    },
    {
      "cell_type": "code",
      "source": [
        "model1.compile(loss=tf.keras.losses.mae,optimizer=tf.keras.optimizers.Adam(),metrics=[\"mae\"])"
      ],
      "metadata": {
        "id": "M1a4Flmxavdn"
      },
      "execution_count": 159,
      "outputs": []
    },
    {
      "cell_type": "code",
      "source": [
        "history1=model1.fit(xtrain,ytrain,epochs=20)"
      ],
      "metadata": {
        "colab": {
          "base_uri": "https://localhost:8080/"
        },
        "id": "lvq-uBtEft6E",
        "outputId": "39a370bd-7cc3-42d3-9654-098a1c0dd94a"
      },
      "execution_count": 150,
      "outputs": [
        {
          "output_type": "stream",
          "name": "stdout",
          "text": [
            "Epoch 1/20\n",
            "20/20 [==============================] - 1s 2ms/step - loss: 0.3469 - accuracy: 0.6531\n",
            "Epoch 2/20\n",
            "20/20 [==============================] - 0s 2ms/step - loss: 0.3469 - accuracy: 0.6531\n",
            "Epoch 3/20\n",
            "20/20 [==============================] - 0s 2ms/step - loss: 0.3469 - accuracy: 0.6531\n",
            "Epoch 4/20\n",
            "20/20 [==============================] - 0s 2ms/step - loss: 0.3469 - accuracy: 0.6531\n",
            "Epoch 5/20\n",
            "20/20 [==============================] - 0s 3ms/step - loss: 0.3469 - accuracy: 0.6531\n",
            "Epoch 6/20\n",
            "20/20 [==============================] - 0s 2ms/step - loss: 0.3469 - accuracy: 0.6531\n",
            "Epoch 7/20\n",
            "20/20 [==============================] - 0s 3ms/step - loss: 0.3469 - accuracy: 0.6531\n",
            "Epoch 8/20\n",
            "20/20 [==============================] - 0s 2ms/step - loss: 0.3469 - accuracy: 0.6531\n",
            "Epoch 9/20\n",
            "20/20 [==============================] - 0s 2ms/step - loss: 0.3469 - accuracy: 0.6531\n",
            "Epoch 10/20\n",
            "20/20 [==============================] - 0s 3ms/step - loss: 0.3469 - accuracy: 0.6531\n",
            "Epoch 11/20\n",
            "20/20 [==============================] - 0s 3ms/step - loss: 0.3469 - accuracy: 0.6531\n",
            "Epoch 12/20\n",
            "20/20 [==============================] - 0s 2ms/step - loss: 0.3469 - accuracy: 0.6531\n",
            "Epoch 13/20\n",
            "20/20 [==============================] - 0s 3ms/step - loss: 0.3469 - accuracy: 0.6531\n",
            "Epoch 14/20\n",
            "20/20 [==============================] - 0s 2ms/step - loss: 0.3469 - accuracy: 0.6531\n",
            "Epoch 15/20\n",
            "20/20 [==============================] - 0s 3ms/step - loss: 0.3469 - accuracy: 0.6531\n",
            "Epoch 16/20\n",
            "20/20 [==============================] - 0s 2ms/step - loss: 0.3469 - accuracy: 0.6531\n",
            "Epoch 17/20\n",
            "20/20 [==============================] - 0s 2ms/step - loss: 0.3469 - accuracy: 0.6531\n",
            "Epoch 18/20\n",
            "20/20 [==============================] - 0s 2ms/step - loss: 0.3469 - accuracy: 0.6531\n",
            "Epoch 19/20\n",
            "20/20 [==============================] - 0s 2ms/step - loss: 0.3469 - accuracy: 0.6531\n",
            "Epoch 20/20\n",
            "20/20 [==============================] - 0s 2ms/step - loss: 0.3469 - accuracy: 0.6531\n"
          ]
        }
      ]
    },
    {
      "cell_type": "code",
      "source": [
        "model1.evaluate(xtest,ytest)"
      ],
      "metadata": {
        "colab": {
          "base_uri": "https://localhost:8080/"
        },
        "id": "yiNx_fiqfyTh",
        "outputId": "3cdc6454-f7cc-4b38-eafa-d028ed1e0301"
      },
      "execution_count": 160,
      "outputs": [
        {
          "output_type": "stream",
          "name": "stdout",
          "text": [
            "5/5 [==============================] - 0s 6ms/step - loss: 0.3571 - mae: 0.3571\n"
          ]
        },
        {
          "output_type": "execute_result",
          "data": {
            "text/plain": [
              "[0.3571428656578064, 0.3571428656578064]"
            ]
          },
          "metadata": {},
          "execution_count": 160
        }
      ]
    },
    {
      "cell_type": "code",
      "source": [
        "##Model1 Results\n",
        "pd.DataFrame(history.history).plot()\n",
        "plt.ylabel(\"loss\")\n",
        "plt.xlabel(\"epochs\");\n",
        ""
      ],
      "metadata": {
        "colab": {
          "base_uri": "https://localhost:8080/",
          "height": 449
        },
        "id": "8-4Wd2S-gT_9",
        "outputId": "d5005ab1-1167-4566-9078-2d02f549776e"
      },
      "execution_count": 161,
      "outputs": [
        {
          "output_type": "display_data",
          "data": {
            "text/plain": [
              "<Figure size 640x480 with 1 Axes>"
            ],
            "image/png": "[encoded data removed]"
          },
          "metadata": {}
        }
      ]
    },
    {
      "cell_type": "code",
      "source": [
        "#Model2 results\n",
        "pd.DataFrame(history1.history).plot()\n",
        "plt.ylabel(\"loss\")\n",
        "plt.xlabel(\"epochs\");\n",
        ""
      ],
      "metadata": {
        "colab": {
          "base_uri": "https://localhost:8080/",
          "height": 449
        },
        "id": "vq81u2kjgbza",
        "outputId": "e0c0dd0d-f4f2-4353-8b5b-9a139bcfbc6f"
      },
      "execution_count": 162,
      "outputs": [
        {
          "output_type": "display_data",
          "data": {
            "text/plain": [
              "<Figure size 640x480 with 1 Axes>"
            ],
            "image/png": "[encoded data removed]"
          },
          "metadata": {}
        }
      ]
    },
    {
      "cell_type": "markdown",
      "source": [
        "##PreProcessing Data with ONeHOtEncoder"
      ],
      "metadata": {
        "id": "sVCRHBeIhRaW"
      }
    },
    {
      "cell_type": "code",
      "source": [
        "data"
      ],
      "metadata": {
        "colab": {
          "base_uri": "https://localhost:8080/",
          "height": 423
        },
        "id": "_uGsEFU8h0HX",
        "outputId": "6098c36d-671c-4371-bc02-37a2da1c068e"
      },
      "execution_count": 114,
      "outputs": [
        {
          "output_type": "execute_result",
          "data": {
            "text/plain": [
              "     Pregnancies  Glucose  BloodPressure  SkinThickness  Insulin   BMI  \\\n",
              "0              6      148             72             35        0  33.6   \n",
              "1              1       85             66             29        0  26.6   \n",
              "2              8      183             64              0        0  23.3   \n",
              "3              1       89             66             23       94  28.1   \n",
              "4              0      137             40             35      168  43.1   \n",
              "..           ...      ...            ...            ...      ...   ...   \n",
              "763           10      101             76             48      180  32.9   \n",
              "764            2      122             70             27        0  36.8   \n",
              "765            5      121             72             23      112  26.2   \n",
              "766            1      126             60              0        0  30.1   \n",
              "767            1       93             70             31        0  30.4   \n",
              "\n",
              "     DiabetesPedigreeFunction  Age  Outcome  \n",
              "0                       0.627   50        1  \n",
              "1                       0.351   31        0  \n",
              "2                       0.672   32        1  \n",
              "3                       0.167   21        0  \n",
              "4                       2.288   33        1  \n",
              "..                        ...  ...      ...  \n",
              "763                     0.171   63        0  \n",
              "764                     0.340   27        0  \n",
              "765                     0.245   30        0  \n",
              "766                     0.349   47        1  \n",
              "767                     0.315   23        0  \n",
              "\n",
              "[768 rows x 9 columns]"
            ],
            "text/html": [
              "\n",
              "\n",
              "  <div id=\"df-7f423b98-91c0-45d7-98db-c70a9471f655\">\n",
              "    <div class=\"colab-df-container\">\n",
              "      <div>\n",
              "<style scoped>\n",
              "    .dataframe tbody tr th:only-of-type {\n",
              "        vertical-align: middle;\n",
              "    }\n",
              "\n",
              "    .dataframe tbody tr th {\n",
              "        vertical-align: top;\n",
              "    }\n",
              "\n",
              "    .dataframe thead th {\n",
              "        text-align: right;\n",
              "    }\n",
              "</style>\n",
              "<table border=\"1\" class=\"dataframe\">\n",
              "  <thead>\n",
              "    <tr style=\"text-align: right;\">\n",
              "      <th></th>\n",
              "      <th>Pregnancies</th>\n",
              "      <th>Glucose</th>\n",
              "      <th>BloodPressure</th>\n",
              "      <th>SkinThickness</th>\n",
              "      <th>Insulin</th>\n",
              "      <th>BMI</th>\n",
              "      <th>DiabetesPedigreeFunction</th>\n",
              "      <th>Age</th>\n",
              "      <th>Outcome</th>\n",
              "    </tr>\n",
              "  </thead>\n",
              "  <tbody>\n",
              "    <tr>\n",
              "      <th>0</th>\n",
              "      <td>6</td>\n",
              "      <td>148</td>\n",
              "      <td>72</td>\n",
              "      <td>35</td>\n",
              "      <td>0</td>\n",
              "      <td>33.6</td>\n",
              "      <td>0.627</td>\n",
              "      <td>50</td>\n",
              "      <td>1</td>\n",
              "    </tr>\n",
              "    <tr>\n",
              "      <th>1</th>\n",
              "      <td>1</td>\n",
              "      <td>85</td>\n",
              "      <td>66</td>\n",
              "      <td>29</td>\n",
              "      <td>0</td>\n",
              "      <td>26.6</td>\n",
              "      <td>0.351</td>\n",
              "      <td>31</td>\n",
              "      <td>0</td>\n",
              "    </tr>\n",
              "    <tr>\n",
              "      <th>2</th>\n",
              "      <td>8</td>\n",
              "      <td>183</td>\n",
              "      <td>64</td>\n",
              "      <td>0</td>\n",
              "      <td>0</td>\n",
              "      <td>23.3</td>\n",
              "      <td>0.672</td>\n",
              "      <td>32</td>\n",
              "      <td>1</td>\n",
              "    </tr>\n",
              "    <tr>\n",
              "      <th>3</th>\n",
              "      <td>1</td>\n",
              "      <td>89</td>\n",
              "      <td>66</td>\n",
              "      <td>23</td>\n",
              "      <td>94</td>\n",
              "      <td>28.1</td>\n",
              "      <td>0.167</td>\n",
              "      <td>21</td>\n",
              "      <td>0</td>\n",
              "    </tr>\n",
              "    <tr>\n",
              "      <th>4</th>\n",
              "      <td>0</td>\n",
              "      <td>137</td>\n",
              "      <td>40</td>\n",
              "      <td>35</td>\n",
              "      <td>168</td>\n",
              "      <td>43.1</td>\n",
              "      <td>2.288</td>\n",
              "      <td>33</td>\n",
              "      <td>1</td>\n",
              "    </tr>\n",
              "    <tr>\n",
              "      <th>...</th>\n",
              "      <td>...</td>\n",
              "      <td>...</td>\n",
              "      <td>...</td>\n",
              "      <td>...</td>\n",
              "      <td>...</td>\n",
              "      <td>...</td>\n",
              "      <td>...</td>\n",
              "      <td>...</td>\n",
              "      <td>...</td>\n",
              "    </tr>\n",
              "    <tr>\n",
              "      <th>763</th>\n",
              "      <td>10</td>\n",
              "      <td>101</td>\n",
              "      <td>76</td>\n",
              "      <td>48</td>\n",
              "      <td>180</td>\n",
              "      <td>32.9</td>\n",
              "      <td>0.171</td>\n",
              "      <td>63</td>\n",
              "      <td>0</td>\n",
              "    </tr>\n",
              "    <tr>\n",
              "      <th>764</th>\n",
              "      <td>2</td>\n",
              "      <td>122</td>\n",
              "      <td>70</td>\n",
              "      <td>27</td>\n",
              "      <td>0</td>\n",
              "      <td>36.8</td>\n",
              "      <td>0.340</td>\n",
              "      <td>27</td>\n",
              "      <td>0</td>\n",
              "    </tr>\n",
              "    <tr>\n",
              "      <th>765</th>\n",
              "      <td>5</td>\n",
              "      <td>121</td>\n",
              "      <td>72</td>\n",
              "      <td>23</td>\n",
              "      <td>112</td>\n",
              "      <td>26.2</td>\n",
              "      <td>0.245</td>\n",
              "      <td>30</td>\n",
              "      <td>0</td>\n",
              "    </tr>\n",
              "    <tr>\n",
              "      <th>766</th>\n",
              "      <td>1</td>\n",
              "      <td>126</td>\n",
              "      <td>60</td>\n",
              "      <td>0</td>\n",
              "      <td>0</td>\n",
              "      <td>30.1</td>\n",
              "      <td>0.349</td>\n",
              "      <td>47</td>\n",
              "      <td>1</td>\n",
              "    </tr>\n",
              "    <tr>\n",
              "      <th>767</th>\n",
              "      <td>1</td>\n",
              "      <td>93</td>\n",
              "      <td>70</td>\n",
              "      <td>31</td>\n",
              "      <td>0</td>\n",
              "      <td>30.4</td>\n",
              "      <td>0.315</td>\n",
              "      <td>23</td>\n",
              "      <td>0</td>\n",
              "    </tr>\n",
              "  </tbody>\n",
              "</table>\n",
              "<p>768 rows × 9 columns</p>\n",
              "</div>\n",
              "      <button class=\"colab-df-convert\" onclick=\"convertToInteractive('df-7f423b98-91c0-45d7-98db-c70a9471f655')\"\n",
              "              title=\"Convert this dataframe to an interactive table.\"\n",
              "              style=\"display:none;\">\n",
              "\n",
              "  <svg xmlns=\"http://www.w3.org/2000/svg\" height=\"24px\"viewBox=\"0 0 24 24\"\n",
              "       width=\"24px\">\n",
              "    <path d=\"M0 0h24v24H0V0z\" fill=\"none\"/>\n",
              "    <path d=\"M18.56 5.44l.94 2.06.94-2.06 2.06-.94-2.06-.94-.94-2.06-.94 2.06-2.06.94zm-11 1L8.5 8.5l.94-2.06 2.06-.94-2.06-.94L8.5 2.5l-.94 2.06-2.06.94zm10 10l.94 2.06.94-2.06 2.06-.94-2.06-.94-.94-2.06-.94 2.06-2.06.94z\"/><path d=\"M17.41 7.96l-1.37-1.37c-.4-.4-.92-.59-1.43-.59-.52 0-1.04.2-1.43.59L10.3 9.45l-7.72 7.72c-.78.78-.78 2.05 0 2.83L4 21.41c.39.39.9.59 1.41.59.51 0 1.02-.2 1.41-.59l7.78-7.78 2.81-2.81c.8-.78.8-2.07 0-2.86zM5.41 20L4 18.59l7.72-7.72 1.47 1.35L5.41 20z\"/>\n",
              "  </svg>\n",
              "      </button>\n",
              "\n",
              "\n",
              "\n",
              "    <div id=\"df-3d63aeac-6b66-4fe5-962e-6e34943db542\">\n",
              "      <button class=\"colab-df-quickchart\" onclick=\"quickchart('df-3d63aeac-6b66-4fe5-962e-6e34943db542')\"\n",
              "              title=\"Suggest charts.\"\n",
              "              style=\"display:none;\">\n",
              "\n",
              "<svg xmlns=\"http://www.w3.org/2000/svg\" height=\"24px\"viewBox=\"0 0 24 24\"\n",
              "     width=\"24px\">\n",
              "    <g>\n",
              "        <path d=\"M19 3H5c-1.1 0-2 .9-2 2v14c0 1.1.9 2 2 2h14c1.1 0 2-.9 2-2V5c0-1.1-.9-2-2-2zM9 17H7v-7h2v7zm4 0h-2V7h2v10zm4 0h-2v-4h2v4z\"/>\n",
              "    </g>\n",
              "</svg>\n",
              "      </button>\n",
              "    </div>\n",
              "\n",
              "<style>\n",
              "  .colab-df-quickchart {\n",
              "    background-color: #E8F0FE;\n",
              "    border: none;\n",
              "    border-radius: 50%;\n",
              "    cursor: pointer;\n",
              "    display: none;\n",
              "    fill: #1967D2;\n",
              "    height: 32px;\n",
              "    padding: 0 0 0 0;\n",
              "    width: 32px;\n",
              "  }\n",
              "\n",
              "  .colab-df-quickchart:hover {\n",
              "    background-color: #E2EBFA;\n",
              "    box-shadow: 0px 1px 2px rgba(60, 64, 67, 0.3), 0px 1px 3px 1px rgba(60, 64, 67, 0.15);\n",
              "    fill: #174EA6;\n",
              "  }\n",
              "\n",
              "  [theme=dark] .colab-df-quickchart {\n",
              "    background-color: #3B4455;\n",
              "    fill: #D2E3FC;\n",
              "  }\n",
              "\n",
              "  [theme=dark] .colab-df-quickchart:hover {\n",
              "    background-color: #434B5C;\n",
              "    box-shadow: 0px 1px 3px 1px rgba(0, 0, 0, 0.15);\n",
              "    filter: drop-shadow(0px 1px 2px rgba(0, 0, 0, 0.3));\n",
              "    fill: #FFFFFF;\n",
              "  }\n",
              "</style>\n",
              "\n",
              "    <script>\n",
              "      async function quickchart(key) {\n",
              "        const containerElement = document.querySelector('#' + key);\n",
              "        const charts = await google.colab.kernel.invokeFunction(\n",
              "            'suggestCharts', [key], {});\n",
              "      }\n",
              "    </script>\n",
              "\n",
              "      <script>\n",
              "\n",
              "function displayQuickchartButton(domScope) {\n",
              "  let quickchartButtonEl =\n",
              "    domScope.querySelector('#df-3d63aeac-6b66-4fe5-962e-6e34943db542 button.colab-df-quickchart');\n",
              "  quickchartButtonEl.style.display =\n",
              "    google.colab.kernel.accessAllowed ? 'block' : 'none';\n",
              "}\n",
              "\n",
              "        displayQuickchartButton(document);\n",
              "      </script>\n",
              "      <style>\n",
              "    .colab-df-container {\n",
              "      display:flex;\n",
              "      flex-wrap:wrap;\n",
              "      gap: 12px;\n",
              "    }\n",
              "\n",
              "    .colab-df-convert {\n",
              "      background-color: #E8F0FE;\n",
              "      border: none;\n",
              "      border-radius: 50%;\n",
              "      cursor: pointer;\n",
              "      display: none;\n",
              "      fill: #1967D2;\n",
              "      height: 32px;\n",
              "      padding: 0 0 0 0;\n",
              "      width: 32px;\n",
              "    }\n",
              "\n",
              "    .colab-df-convert:hover {\n",
              "      background-color: #E2EBFA;\n",
              "      box-shadow: 0px 1px 2px rgba(60, 64, 67, 0.3), 0px 1px 3px 1px rgba(60, 64, 67, 0.15);\n",
              "      fill: #174EA6;\n",
              "    }\n",
              "\n",
              "    [theme=dark] .colab-df-convert {\n",
              "      background-color: #3B4455;\n",
              "      fill: #D2E3FC;\n",
              "    }\n",
              "\n",
              "    [theme=dark] .colab-df-convert:hover {\n",
              "      background-color: #434B5C;\n",
              "      box-shadow: 0px 1px 3px 1px rgba(0, 0, 0, 0.15);\n",
              "      filter: drop-shadow(0px 1px 2px rgba(0, 0, 0, 0.3));\n",
              "      fill: #FFFFFF;\n",
              "    }\n",
              "  </style>\n",
              "\n",
              "      <script>\n",
              "        const buttonEl =\n",
              "          document.querySelector('#df-7f423b98-91c0-45d7-98db-c70a9471f655 button.colab-df-convert');\n",
              "        buttonEl.style.display =\n",
              "          google.colab.kernel.accessAllowed ? 'block' : 'none';\n",
              "\n",
              "        async function convertToInteractive(key) {\n",
              "          const element = document.querySelector('#df-7f423b98-91c0-45d7-98db-c70a9471f655');\n",
              "          const dataTable =\n",
              "            await google.colab.kernel.invokeFunction('convertToInteractive',\n",
              "                                                     [key], {});\n",
              "          if (!dataTable) return;\n",
              "\n",
              "          const docLinkHtml = 'Like what you see? Visit the ' +\n",
              "            '<a target=\"_blank\" href=https://colab.research.google.com/notebooks/data_table.ipynb>data table notebook</a>'\n",
              "            + ' to learn more about interactive tables.';\n",
              "          element.innerHTML = '';\n",
              "          dataTable['output_type'] = 'display_data';\n",
              "          await google.colab.output.renderOutput(dataTable, element);\n",
              "          const docLink = document.createElement('div');\n",
              "          docLink.innerHTML = docLinkHtml;\n",
              "          element.appendChild(docLink);\n",
              "        }\n",
              "      </script>\n",
              "    </div>\n",
              "  </div>\n"
            ]
          },
          "metadata": {},
          "execution_count": 114
        }
      ]
    },
    {
      "cell_type": "code",
      "source": [
        "from sklearn.compose import make_column_transformer\n",
        "from sklearn.preprocessing import MinMaxScaler, OneHotEncoder\n",
        "\n",
        "# Create column transformer (this will help us normalize/preprocess our data)\n",
        "ct = make_column_transformer(\n",
        "    (MinMaxScaler(), [\"Pregnancies\", \"Glucose\", \"BloodPressure\",\"SkinThickness\", \"Insulin\", \"BMI\", \"DiabetesPedigreeFunction\",\"Age\"\t]), # get all values between 0 and 1\n",
        "\n",
        ")\n",
        "\n",
        "# Create X & y\n",
        "x = data.drop(\"Outcome\", axis=1)\n",
        "y = data[\"Outcome\"]\n",
        "\n",
        "# Build our train and test sets (use random state to ensure same split as before)\n",
        "xtrain, xtest, ytrain, ytest = train_test_split(x, y, test_size=0.2, random_state=42)\n",
        "\n",
        "# Fit column transformer on the training data only (doing so on test data would result in data leakage)\n",
        "ct.fit(xtrain)\n",
        "\n",
        "# Transform training and test data with normalization (MinMaxScalar) and one hot encoding (OneHotEncoder)\n",
        "xtrain_normal = ct.transform(xtrain)\n",
        "xtest_normal = ct.transform(xtest)"
      ],
      "metadata": {
        "id": "UI4cvJAvhgGk"
      },
      "execution_count": 137,
      "outputs": []
    },
    {
      "cell_type": "code",
      "source": [
        "xtrain.loc[0],xtrain_normal[0]"
      ],
      "metadata": {
        "colab": {
          "base_uri": "https://localhost:8080/"
        },
        "id": "aJ0dWQXUlNzE",
        "outputId": "368a710e-5226-4598-c78c-7274fe0bcddc"
      },
      "execution_count": 139,
      "outputs": [
        {
          "output_type": "execute_result",
          "data": {
            "text/plain": [
              "(Pregnancies                   6.000\n",
              " Glucose                     148.000\n",
              " BloodPressure                72.000\n",
              " SkinThickness                35.000\n",
              " Insulin                       0.000\n",
              " BMI                          33.600\n",
              " DiabetesPedigreeFunction      0.627\n",
              " Age                          50.000\n",
              " Name: 0, dtype: float64,\n",
              " array([0.11764706, 0.42211055, 0.        , 0.        , 0.        ,\n",
              "        0.        , 0.09649872, 0.        ]))"
            ]
          },
          "metadata": {},
          "execution_count": 139
        }
      ]
    },
    {
      "cell_type": "code",
      "source": [
        "model3 = tf.keras.Sequential([\n",
        "  tf.keras.layers.Dense(100),\n",
        "  tf.keras.layers.Dense(10),\n",
        "  tf.keras.layers.Dense(1)\n",
        "])\n",
        "\n",
        "# Compile the model\n",
        "model3.compile(loss=tf.keras.losses.mae,\n",
        "                          optimizer=tf.keras.optimizers.Adam(),\n",
        "                          metrics=['mae'])\n",
        "\n",
        "# Fit the model for 200 epochs (same as insurance_model_2)\n",
        "history4=model3.fit(xtrain_normal, ytrain, epochs=200, )"
      ],
      "metadata": {
        "colab": {
          "base_uri": "https://localhost:8080/"
        },
        "id": "MP5XvZf6hf9M",
        "outputId": "955926ee-6889-4dcf-a708-bd2640db8279"
      },
      "execution_count": 163,
      "outputs": [
        {
          "output_type": "stream",
          "name": "stdout",
          "text": [
            "Epoch 1/200\n",
            "20/20 [==============================] - 1s 3ms/step - loss: 0.4130 - mae: 0.4130\n",
            "Epoch 2/200\n",
            "20/20 [==============================] - 0s 2ms/step - loss: 0.3629 - mae: 0.3629\n",
            "Epoch 3/200\n",
            "20/20 [==============================] - 0s 2ms/step - loss: 0.3527 - mae: 0.3527\n",
            "Epoch 4/200\n",
            "20/20 [==============================] - 0s 2ms/step - loss: 0.3473 - mae: 0.3473\n",
            "Epoch 5/200\n",
            "20/20 [==============================] - 0s 2ms/step - loss: 0.3501 - mae: 0.3501\n",
            "Epoch 6/200\n",
            "20/20 [==============================] - 0s 2ms/step - loss: 0.3414 - mae: 0.3414\n",
            "Epoch 7/200\n",
            "20/20 [==============================] - 0s 2ms/step - loss: 0.3416 - mae: 0.3416\n",
            "Epoch 8/200\n",
            "20/20 [==============================] - 0s 2ms/step - loss: 0.3415 - mae: 0.3415\n",
            "Epoch 9/200\n",
            "20/20 [==============================] - 0s 2ms/step - loss: 0.3328 - mae: 0.3328\n",
            "Epoch 10/200\n",
            "20/20 [==============================] - 0s 2ms/step - loss: 0.3368 - mae: 0.3368\n",
            "Epoch 11/200\n",
            "20/20 [==============================] - 0s 2ms/step - loss: 0.3283 - mae: 0.3283\n",
            "Epoch 12/200\n",
            "20/20 [==============================] - 0s 3ms/step - loss: 0.3301 - mae: 0.3301\n",
            "Epoch 13/200\n",
            "20/20 [==============================] - 0s 2ms/step - loss: 0.3245 - mae: 0.3245\n",
            "Epoch 14/200\n",
            "20/20 [==============================] - 0s 2ms/step - loss: 0.3281 - mae: 0.3281\n",
            "Epoch 15/200\n",
            "20/20 [==============================] - 0s 2ms/step - loss: 0.3285 - mae: 0.3285\n",
            "Epoch 16/200\n",
            "20/20 [==============================] - 0s 2ms/step - loss: 0.3246 - mae: 0.3246\n",
            "Epoch 17/200\n",
            "20/20 [==============================] - 0s 3ms/step - loss: 0.3241 - mae: 0.3241\n",
            "Epoch 18/200\n",
            "20/20 [==============================] - 0s 2ms/step - loss: 0.3278 - mae: 0.3278\n",
            "Epoch 19/200\n",
            "20/20 [==============================] - 0s 2ms/step - loss: 0.3201 - mae: 0.3201\n",
            "Epoch 20/200\n",
            "20/20 [==============================] - 0s 2ms/step - loss: 0.3237 - mae: 0.3237\n",
            "Epoch 21/200\n",
            "20/20 [==============================] - 0s 2ms/step - loss: 0.3255 - mae: 0.3255\n",
            "Epoch 22/200\n",
            "20/20 [==============================] - 0s 3ms/step - loss: 0.3220 - mae: 0.3220\n",
            "Epoch 23/200\n",
            "20/20 [==============================] - 0s 2ms/step - loss: 0.3270 - mae: 0.3270\n",
            "Epoch 24/200\n",
            "20/20 [==============================] - 0s 3ms/step - loss: 0.3202 - mae: 0.3202\n",
            "Epoch 25/200\n",
            "20/20 [==============================] - 0s 2ms/step - loss: 0.3192 - mae: 0.3192\n",
            "Epoch 26/200\n",
            "20/20 [==============================] - 0s 3ms/step - loss: 0.3189 - mae: 0.3189\n",
            "Epoch 27/200\n",
            "20/20 [==============================] - 0s 2ms/step - loss: 0.3193 - mae: 0.3193\n",
            "Epoch 28/200\n",
            "20/20 [==============================] - 0s 2ms/step - loss: 0.3198 - mae: 0.3198\n",
            "Epoch 29/200\n",
            "20/20 [==============================] - 0s 2ms/step - loss: 0.3198 - mae: 0.3198\n",
            "Epoch 30/200\n",
            "20/20 [==============================] - 0s 2ms/step - loss: 0.3201 - mae: 0.3201\n",
            "Epoch 31/200\n",
            "20/20 [==============================] - 0s 2ms/step - loss: 0.3187 - mae: 0.3187\n",
            "Epoch 32/200\n",
            "20/20 [==============================] - 0s 2ms/step - loss: 0.3262 - mae: 0.3262\n",
            "Epoch 33/200\n",
            "20/20 [==============================] - 0s 2ms/step - loss: 0.3203 - mae: 0.3203\n",
            "Epoch 34/200\n",
            "20/20 [==============================] - 0s 2ms/step - loss: 0.3186 - mae: 0.3186\n",
            "Epoch 35/200\n",
            "20/20 [==============================] - 0s 3ms/step - loss: 0.3302 - mae: 0.3302\n",
            "Epoch 36/200\n",
            "20/20 [==============================] - 0s 2ms/step - loss: 0.3218 - mae: 0.3218\n",
            "Epoch 37/200\n",
            "20/20 [==============================] - 0s 2ms/step - loss: 0.3200 - mae: 0.3200\n",
            "Epoch 38/200\n",
            "20/20 [==============================] - 0s 2ms/step - loss: 0.3178 - mae: 0.3178\n",
            "Epoch 39/200\n",
            "20/20 [==============================] - 0s 2ms/step - loss: 0.3183 - mae: 0.3183\n",
            "Epoch 40/200\n",
            "20/20 [==============================] - 0s 3ms/step - loss: 0.3202 - mae: 0.3202\n",
            "Epoch 41/200\n",
            "20/20 [==============================] - 0s 2ms/step - loss: 0.3177 - mae: 0.3177\n",
            "Epoch 42/200\n",
            "20/20 [==============================] - 0s 3ms/step - loss: 0.3176 - mae: 0.3176\n",
            "Epoch 43/200\n",
            "20/20 [==============================] - 0s 2ms/step - loss: 0.3194 - mae: 0.3194\n",
            "Epoch 44/200\n",
            "20/20 [==============================] - 0s 2ms/step - loss: 0.3190 - mae: 0.3190\n",
            "Epoch 45/200\n",
            "20/20 [==============================] - 0s 2ms/step - loss: 0.3254 - mae: 0.3254\n",
            "Epoch 46/200\n",
            "20/20 [==============================] - 0s 2ms/step - loss: 0.3195 - mae: 0.3195\n",
            "Epoch 47/200\n",
            "20/20 [==============================] - 0s 2ms/step - loss: 0.3196 - mae: 0.3196\n",
            "Epoch 48/200\n",
            "20/20 [==============================] - 0s 2ms/step - loss: 0.3227 - mae: 0.3227\n",
            "Epoch 49/200\n",
            "20/20 [==============================] - 0s 2ms/step - loss: 0.3316 - mae: 0.3316\n",
            "Epoch 50/200\n",
            "20/20 [==============================] - 0s 2ms/step - loss: 0.3202 - mae: 0.3202\n",
            "Epoch 51/200\n",
            "20/20 [==============================] - 0s 2ms/step - loss: 0.3205 - mae: 0.3205\n",
            "Epoch 52/200\n",
            "20/20 [==============================] - 0s 2ms/step - loss: 0.3179 - mae: 0.3179\n",
            "Epoch 53/200\n",
            "20/20 [==============================] - 0s 4ms/step - loss: 0.3222 - mae: 0.3222\n",
            "Epoch 54/200\n",
            "20/20 [==============================] - 0s 2ms/step - loss: 0.3183 - mae: 0.3183\n",
            "Epoch 55/200\n",
            "20/20 [==============================] - 0s 2ms/step - loss: 0.3180 - mae: 0.3180\n",
            "Epoch 56/200\n",
            "20/20 [==============================] - 0s 2ms/step - loss: 0.3222 - mae: 0.3222\n",
            "Epoch 57/200\n",
            "20/20 [==============================] - 0s 2ms/step - loss: 0.3178 - mae: 0.3178\n",
            "Epoch 58/200\n",
            "20/20 [==============================] - 0s 2ms/step - loss: 0.3226 - mae: 0.3226\n",
            "Epoch 59/200\n",
            "20/20 [==============================] - 0s 2ms/step - loss: 0.3221 - mae: 0.3221\n",
            "Epoch 60/200\n",
            "20/20 [==============================] - 0s 2ms/step - loss: 0.3185 - mae: 0.3185\n",
            "Epoch 61/200\n",
            "20/20 [==============================] - 0s 2ms/step - loss: 0.3220 - mae: 0.3220\n",
            "Epoch 62/200\n",
            "20/20 [==============================] - 0s 2ms/step - loss: 0.3183 - mae: 0.3183\n",
            "Epoch 63/200\n",
            "20/20 [==============================] - 0s 2ms/step - loss: 0.3204 - mae: 0.3204\n",
            "Epoch 64/200\n",
            "20/20 [==============================] - 0s 2ms/step - loss: 0.3198 - mae: 0.3198\n",
            "Epoch 65/200\n",
            "20/20 [==============================] - 0s 2ms/step - loss: 0.3193 - mae: 0.3193\n",
            "Epoch 66/200\n",
            "20/20 [==============================] - 0s 2ms/step - loss: 0.3206 - mae: 0.3206\n",
            "Epoch 67/200\n",
            "20/20 [==============================] - 0s 2ms/step - loss: 0.3188 - mae: 0.3188\n",
            "Epoch 68/200\n",
            "20/20 [==============================] - 0s 2ms/step - loss: 0.3187 - mae: 0.3187\n",
            "Epoch 69/200\n",
            "20/20 [==============================] - 0s 2ms/step - loss: 0.3203 - mae: 0.3203\n",
            "Epoch 70/200\n",
            "20/20 [==============================] - 0s 2ms/step - loss: 0.3181 - mae: 0.3181\n",
            "Epoch 71/200\n",
            "20/20 [==============================] - 0s 2ms/step - loss: 0.3180 - mae: 0.3180\n",
            "Epoch 72/200\n",
            "20/20 [==============================] - 0s 3ms/step - loss: 0.3177 - mae: 0.3177\n",
            "Epoch 73/200\n",
            "20/20 [==============================] - 0s 2ms/step - loss: 0.3173 - mae: 0.3173\n",
            "Epoch 74/200\n",
            "20/20 [==============================] - 0s 2ms/step - loss: 0.3209 - mae: 0.3209\n",
            "Epoch 75/200\n",
            "20/20 [==============================] - 0s 2ms/step - loss: 0.3183 - mae: 0.3183\n",
            "Epoch 76/200\n",
            "20/20 [==============================] - 0s 2ms/step - loss: 0.3173 - mae: 0.3173\n",
            "Epoch 77/200\n",
            "20/20 [==============================] - 0s 2ms/step - loss: 0.3260 - mae: 0.3260\n",
            "Epoch 78/200\n",
            "20/20 [==============================] - 0s 2ms/step - loss: 0.3247 - mae: 0.3247\n",
            "Epoch 79/200\n",
            "20/20 [==============================] - 0s 2ms/step - loss: 0.3171 - mae: 0.3171\n",
            "Epoch 80/200\n",
            "20/20 [==============================] - 0s 2ms/step - loss: 0.3264 - mae: 0.3264\n",
            "Epoch 81/200\n",
            "20/20 [==============================] - 0s 3ms/step - loss: 0.3217 - mae: 0.3217\n",
            "Epoch 82/200\n",
            "20/20 [==============================] - 0s 2ms/step - loss: 0.3184 - mae: 0.3184\n",
            "Epoch 83/200\n",
            "20/20 [==============================] - 0s 2ms/step - loss: 0.3188 - mae: 0.3188\n",
            "Epoch 84/200\n",
            "20/20 [==============================] - 0s 2ms/step - loss: 0.3189 - mae: 0.3189\n",
            "Epoch 85/200\n",
            "20/20 [==============================] - 0s 2ms/step - loss: 0.3186 - mae: 0.3186\n",
            "Epoch 86/200\n",
            "20/20 [==============================] - 0s 2ms/step - loss: 0.3172 - mae: 0.3172\n",
            "Epoch 87/200\n",
            "20/20 [==============================] - 0s 2ms/step - loss: 0.3253 - mae: 0.3253\n",
            "Epoch 88/200\n",
            "20/20 [==============================] - 0s 2ms/step - loss: 0.3214 - mae: 0.3214\n",
            "Epoch 89/200\n",
            "20/20 [==============================] - 0s 2ms/step - loss: 0.3270 - mae: 0.3270\n",
            "Epoch 90/200\n",
            "20/20 [==============================] - 0s 2ms/step - loss: 0.3205 - mae: 0.3205\n",
            "Epoch 91/200\n",
            "20/20 [==============================] - 0s 3ms/step - loss: 0.3195 - mae: 0.3195\n",
            "Epoch 92/200\n",
            "20/20 [==============================] - 0s 2ms/step - loss: 0.3213 - mae: 0.3213\n",
            "Epoch 93/200\n",
            "20/20 [==============================] - 0s 2ms/step - loss: 0.3180 - mae: 0.3180\n",
            "Epoch 94/200\n",
            "20/20 [==============================] - 0s 2ms/step - loss: 0.3184 - mae: 0.3184\n",
            "Epoch 95/200\n",
            "20/20 [==============================] - 0s 2ms/step - loss: 0.3217 - mae: 0.3217\n",
            "Epoch 96/200\n",
            "20/20 [==============================] - 0s 2ms/step - loss: 0.3212 - mae: 0.3212\n",
            "Epoch 97/200\n",
            "20/20 [==============================] - 0s 2ms/step - loss: 0.3202 - mae: 0.3202\n",
            "Epoch 98/200\n",
            "20/20 [==============================] - 0s 2ms/step - loss: 0.3196 - mae: 0.3196\n",
            "Epoch 99/200\n",
            "20/20 [==============================] - 0s 3ms/step - loss: 0.3184 - mae: 0.3184\n",
            "Epoch 100/200\n",
            "20/20 [==============================] - 0s 2ms/step - loss: 0.3197 - mae: 0.3197\n",
            "Epoch 101/200\n",
            "20/20 [==============================] - 0s 3ms/step - loss: 0.3191 - mae: 0.3191\n",
            "Epoch 102/200\n",
            "20/20 [==============================] - 0s 2ms/step - loss: 0.3216 - mae: 0.3216\n",
            "Epoch 103/200\n",
            "20/20 [==============================] - 0s 2ms/step - loss: 0.3219 - mae: 0.3219\n",
            "Epoch 104/200\n",
            "20/20 [==============================] - 0s 3ms/step - loss: 0.3203 - mae: 0.3203\n",
            "Epoch 105/200\n",
            "20/20 [==============================] - 0s 2ms/step - loss: 0.3225 - mae: 0.3225\n",
            "Epoch 106/200\n",
            "20/20 [==============================] - 0s 2ms/step - loss: 0.3186 - mae: 0.3186\n",
            "Epoch 107/200\n",
            "20/20 [==============================] - 0s 2ms/step - loss: 0.3230 - mae: 0.3230\n",
            "Epoch 108/200\n",
            "20/20 [==============================] - 0s 2ms/step - loss: 0.3164 - mae: 0.3164\n",
            "Epoch 109/200\n",
            "20/20 [==============================] - 0s 3ms/step - loss: 0.3233 - mae: 0.3233\n",
            "Epoch 110/200\n",
            "20/20 [==============================] - 0s 2ms/step - loss: 0.3246 - mae: 0.3246\n",
            "Epoch 111/200\n",
            "20/20 [==============================] - 0s 2ms/step - loss: 0.3240 - mae: 0.3240\n",
            "Epoch 112/200\n",
            "20/20 [==============================] - 0s 2ms/step - loss: 0.3211 - mae: 0.3211\n",
            "Epoch 113/200\n",
            "20/20 [==============================] - 0s 3ms/step - loss: 0.3189 - mae: 0.3189\n",
            "Epoch 114/200\n",
            "20/20 [==============================] - 0s 3ms/step - loss: 0.3180 - mae: 0.3180\n",
            "Epoch 115/200\n",
            "20/20 [==============================] - 0s 2ms/step - loss: 0.3218 - mae: 0.3218\n",
            "Epoch 116/200\n",
            "20/20 [==============================] - 0s 2ms/step - loss: 0.3209 - mae: 0.3209\n",
            "Epoch 117/200\n",
            "20/20 [==============================] - 0s 2ms/step - loss: 0.3198 - mae: 0.3198\n",
            "Epoch 118/200\n",
            "20/20 [==============================] - 0s 4ms/step - loss: 0.3194 - mae: 0.3194\n",
            "Epoch 119/200\n",
            "20/20 [==============================] - 0s 2ms/step - loss: 0.3201 - mae: 0.3201\n",
            "Epoch 120/200\n",
            "20/20 [==============================] - 0s 2ms/step - loss: 0.3193 - mae: 0.3193\n",
            "Epoch 121/200\n",
            "20/20 [==============================] - 0s 2ms/step - loss: 0.3189 - mae: 0.3189\n",
            "Epoch 122/200\n",
            "20/20 [==============================] - 0s 2ms/step - loss: 0.3222 - mae: 0.3222\n",
            "Epoch 123/200\n",
            "20/20 [==============================] - 0s 2ms/step - loss: 0.3188 - mae: 0.3188\n",
            "Epoch 124/200\n",
            "20/20 [==============================] - 0s 3ms/step - loss: 0.3199 - mae: 0.3199\n",
            "Epoch 125/200\n",
            "20/20 [==============================] - 0s 2ms/step - loss: 0.3177 - mae: 0.3177\n",
            "Epoch 126/200\n",
            "20/20 [==============================] - 0s 3ms/step - loss: 0.3192 - mae: 0.3192\n",
            "Epoch 127/200\n",
            "20/20 [==============================] - 0s 2ms/step - loss: 0.3215 - mae: 0.3215\n",
            "Epoch 128/200\n",
            "20/20 [==============================] - 0s 2ms/step - loss: 0.3176 - mae: 0.3176\n",
            "Epoch 129/200\n",
            "20/20 [==============================] - 0s 2ms/step - loss: 0.3196 - mae: 0.3196\n",
            "Epoch 130/200\n",
            "20/20 [==============================] - 0s 2ms/step - loss: 0.3204 - mae: 0.3204\n",
            "Epoch 131/200\n",
            "20/20 [==============================] - 0s 2ms/step - loss: 0.3169 - mae: 0.3169\n",
            "Epoch 132/200\n",
            "20/20 [==============================] - 0s 2ms/step - loss: 0.3213 - mae: 0.3213\n",
            "Epoch 133/200\n",
            "20/20 [==============================] - 0s 2ms/step - loss: 0.3190 - mae: 0.3190\n",
            "Epoch 134/200\n",
            "20/20 [==============================] - 0s 2ms/step - loss: 0.3209 - mae: 0.3209\n",
            "Epoch 135/200\n",
            "20/20 [==============================] - 0s 2ms/step - loss: 0.3185 - mae: 0.3185\n",
            "Epoch 136/200\n",
            "20/20 [==============================] - 0s 2ms/step - loss: 0.3189 - mae: 0.3189\n",
            "Epoch 137/200\n",
            "20/20 [==============================] - 0s 2ms/step - loss: 0.3209 - mae: 0.3209\n",
            "Epoch 138/200\n",
            "20/20 [==============================] - 0s 3ms/step - loss: 0.3191 - mae: 0.3191\n",
            "Epoch 139/200\n",
            "20/20 [==============================] - 0s 2ms/step - loss: 0.3168 - mae: 0.3168\n",
            "Epoch 140/200\n",
            "20/20 [==============================] - 0s 2ms/step - loss: 0.3194 - mae: 0.3194\n",
            "Epoch 141/200\n",
            "20/20 [==============================] - 0s 2ms/step - loss: 0.3185 - mae: 0.3185\n",
            "Epoch 142/200\n",
            "20/20 [==============================] - 0s 2ms/step - loss: 0.3175 - mae: 0.3175\n",
            "Epoch 143/200\n",
            "20/20 [==============================] - 0s 2ms/step - loss: 0.3179 - mae: 0.3179\n",
            "Epoch 144/200\n",
            "20/20 [==============================] - 0s 2ms/step - loss: 0.3205 - mae: 0.3205\n",
            "Epoch 145/200\n",
            "20/20 [==============================] - 0s 3ms/step - loss: 0.3202 - mae: 0.3202\n",
            "Epoch 146/200\n",
            "20/20 [==============================] - 0s 2ms/step - loss: 0.3218 - mae: 0.3218\n",
            "Epoch 147/200\n",
            "20/20 [==============================] - 0s 2ms/step - loss: 0.3204 - mae: 0.3204\n",
            "Epoch 148/200\n",
            "20/20 [==============================] - 0s 3ms/step - loss: 0.3211 - mae: 0.3211\n",
            "Epoch 149/200\n",
            "20/20 [==============================] - 0s 2ms/step - loss: 0.3213 - mae: 0.3213\n",
            "Epoch 150/200\n",
            "20/20 [==============================] - 0s 2ms/step - loss: 0.3204 - mae: 0.3204\n",
            "Epoch 151/200\n",
            "20/20 [==============================] - 0s 3ms/step - loss: 0.3177 - mae: 0.3177\n",
            "Epoch 152/200\n",
            "20/20 [==============================] - 0s 3ms/step - loss: 0.3202 - mae: 0.3202\n",
            "Epoch 153/200\n",
            "20/20 [==============================] - 0s 2ms/step - loss: 0.3185 - mae: 0.3185\n",
            "Epoch 154/200\n",
            "20/20 [==============================] - 0s 2ms/step - loss: 0.3212 - mae: 0.3212\n",
            "Epoch 155/200\n",
            "20/20 [==============================] - 0s 2ms/step - loss: 0.3196 - mae: 0.3196\n",
            "Epoch 156/200\n",
            "20/20 [==============================] - 0s 2ms/step - loss: 0.3178 - mae: 0.3178\n",
            "Epoch 157/200\n",
            "20/20 [==============================] - 0s 2ms/step - loss: 0.3275 - mae: 0.3275\n",
            "Epoch 158/200\n",
            "20/20 [==============================] - 0s 2ms/step - loss: 0.3228 - mae: 0.3228\n",
            "Epoch 159/200\n",
            "20/20 [==============================] - 0s 3ms/step - loss: 0.3221 - mae: 0.3221\n",
            "Epoch 160/200\n",
            "20/20 [==============================] - 0s 3ms/step - loss: 0.3234 - mae: 0.3234\n",
            "Epoch 161/200\n",
            "20/20 [==============================] - 0s 3ms/step - loss: 0.3183 - mae: 0.3183\n",
            "Epoch 162/200\n",
            "20/20 [==============================] - 0s 4ms/step - loss: 0.3172 - mae: 0.3172\n",
            "Epoch 163/200\n",
            "20/20 [==============================] - 0s 4ms/step - loss: 0.3180 - mae: 0.3180\n",
            "Epoch 164/200\n",
            "20/20 [==============================] - 0s 3ms/step - loss: 0.3182 - mae: 0.3182\n",
            "Epoch 165/200\n",
            "20/20 [==============================] - 0s 4ms/step - loss: 0.3174 - mae: 0.3174\n",
            "Epoch 166/200\n",
            "20/20 [==============================] - 0s 3ms/step - loss: 0.3180 - mae: 0.3180\n",
            "Epoch 167/200\n",
            "20/20 [==============================] - 0s 3ms/step - loss: 0.3181 - mae: 0.3181\n",
            "Epoch 168/200\n",
            "20/20 [==============================] - 0s 3ms/step - loss: 0.3172 - mae: 0.3172\n",
            "Epoch 169/200\n",
            "20/20 [==============================] - 0s 3ms/step - loss: 0.3200 - mae: 0.3200\n",
            "Epoch 170/200\n",
            "20/20 [==============================] - 0s 3ms/step - loss: 0.3185 - mae: 0.3185\n",
            "Epoch 171/200\n",
            "20/20 [==============================] - 0s 3ms/step - loss: 0.3181 - mae: 0.3181\n",
            "Epoch 172/200\n",
            "20/20 [==============================] - 0s 3ms/step - loss: 0.3185 - mae: 0.3185\n",
            "Epoch 173/200\n",
            "20/20 [==============================] - 0s 3ms/step - loss: 0.3227 - mae: 0.3227\n",
            "Epoch 174/200\n",
            "20/20 [==============================] - 0s 3ms/step - loss: 0.3175 - mae: 0.3175\n",
            "Epoch 175/200\n",
            "20/20 [==============================] - 0s 4ms/step - loss: 0.3227 - mae: 0.3227\n",
            "Epoch 176/200\n",
            "20/20 [==============================] - 0s 4ms/step - loss: 0.3177 - mae: 0.3177\n",
            "Epoch 177/200\n",
            "20/20 [==============================] - 0s 3ms/step - loss: 0.3186 - mae: 0.3186\n",
            "Epoch 178/200\n",
            "20/20 [==============================] - 0s 3ms/step - loss: 0.3185 - mae: 0.3185\n",
            "Epoch 179/200\n",
            "20/20 [==============================] - 0s 4ms/step - loss: 0.3175 - mae: 0.3175\n",
            "Epoch 180/200\n",
            "20/20 [==============================] - 0s 3ms/step - loss: 0.3196 - mae: 0.3196\n",
            "Epoch 181/200\n",
            "20/20 [==============================] - 0s 3ms/step - loss: 0.3246 - mae: 0.3246\n",
            "Epoch 182/200\n",
            "20/20 [==============================] - 0s 3ms/step - loss: 0.3239 - mae: 0.3239\n",
            "Epoch 183/200\n",
            "20/20 [==============================] - 0s 3ms/step - loss: 0.3185 - mae: 0.3185\n",
            "Epoch 184/200\n",
            "20/20 [==============================] - 0s 3ms/step - loss: 0.3204 - mae: 0.3204\n",
            "Epoch 185/200\n",
            "20/20 [==============================] - 0s 3ms/step - loss: 0.3212 - mae: 0.3212\n",
            "Epoch 186/200\n",
            "20/20 [==============================] - 0s 3ms/step - loss: 0.3171 - mae: 0.3171\n",
            "Epoch 187/200\n",
            "20/20 [==============================] - 0s 4ms/step - loss: 0.3183 - mae: 0.3183\n",
            "Epoch 188/200\n",
            "20/20 [==============================] - 0s 3ms/step - loss: 0.3193 - mae: 0.3193\n",
            "Epoch 189/200\n",
            "20/20 [==============================] - 0s 4ms/step - loss: 0.3204 - mae: 0.3204\n",
            "Epoch 190/200\n",
            "20/20 [==============================] - 0s 4ms/step - loss: 0.3171 - mae: 0.3171\n",
            "Epoch 191/200\n",
            "20/20 [==============================] - 0s 5ms/step - loss: 0.3205 - mae: 0.3205\n",
            "Epoch 192/200\n",
            "20/20 [==============================] - 0s 3ms/step - loss: 0.3195 - mae: 0.3195\n",
            "Epoch 193/200\n",
            "20/20 [==============================] - 0s 4ms/step - loss: 0.3186 - mae: 0.3186\n",
            "Epoch 194/200\n",
            "20/20 [==============================] - 0s 4ms/step - loss: 0.3182 - mae: 0.3182\n",
            "Epoch 195/200\n",
            "20/20 [==============================] - 0s 4ms/step - loss: 0.3186 - mae: 0.3186\n",
            "Epoch 196/200\n",
            "20/20 [==============================] - 0s 3ms/step - loss: 0.3170 - mae: 0.3170\n",
            "Epoch 197/200\n",
            "20/20 [==============================] - 0s 4ms/step - loss: 0.3219 - mae: 0.3219\n",
            "Epoch 198/200\n",
            "20/20 [==============================] - 0s 3ms/step - loss: 0.3179 - mae: 0.3179\n",
            "Epoch 199/200\n",
            "20/20 [==============================] - 0s 3ms/step - loss: 0.3193 - mae: 0.3193\n",
            "Epoch 200/200\n",
            "20/20 [==============================] - 0s 4ms/step - loss: 0.3185 - mae: 0.3185\n"
          ]
        }
      ]
    },
    {
      "cell_type": "code",
      "source": [
        "preds=model.predict(xtest)"
      ],
      "metadata": {
        "colab": {
          "base_uri": "https://localhost:8080/"
        },
        "id": "buL4rxxjhf1A",
        "outputId": "9a666ef6-d1c6-4c01-ca3f-c78e685a97d2"
      },
      "execution_count": 174,
      "outputs": [
        {
          "output_type": "stream",
          "name": "stdout",
          "text": [
            "5/5 [==============================] - 0s 3ms/step\n"
          ]
        }
      ]
    },
    {
      "cell_type": "code",
      "source": [
        "from sklearn.metrics import mean_squared_error\n",
        "mean_squared_error(ytest, preds)"
      ],
      "metadata": {
        "colab": {
          "base_uri": "https://localhost:8080/"
        },
        "id": "KwYTXXE-kWcY",
        "outputId": "c29f3e2e-c00c-40ad-efc1-1eea99279d35"
      },
      "execution_count": 175,
      "outputs": [
        {
          "output_type": "execute_result",
          "data": {
            "text/plain": [
              "0.3301971019388391"
            ]
          },
          "metadata": {},
          "execution_count": 175
        }
      ]
    },
    {
      "cell_type": "code",
      "source": [
        "pd.DataFrame(history4.history).plot()"
      ],
      "metadata": {
        "colab": {
          "base_uri": "https://localhost:8080/",
          "height": 447
        },
        "id": "qbjKLb8FmhS3",
        "outputId": "42513147-70b2-4c97-a787-4d8815269dc6"
      },
      "execution_count": 176,
      "outputs": [
        {
          "output_type": "execute_result",
          "data": {
            "text/plain": [
              "<Axes: >"
            ]
          },
          "metadata": {},
          "execution_count": 176
        },
        {
          "output_type": "display_data",
          "data": {
            "text/plain": [
              "<Figure size 640x480 with 1 Axes>"
            ],
            "image/png": "[encoded data removed]"
          },
          "metadata": {}
        }
      ]
    },
    {
      "cell_type": "code",
      "source": [
        " from sklearn.metrics import accuracy_score\n",
        " accuracy_score(ytest, tf.round(preds))"
      ],
      "metadata": {
        "colab": {
          "base_uri": "https://localhost:8080/"
        },
        "id": "3MoLcmD9n2aQ",
        "outputId": "df12a948-21ac-42a9-ff68-04691d74c7a5"
      },
      "execution_count": 177,
      "outputs": [
        {
          "output_type": "execute_result",
          "data": {
            "text/plain": [
              "0.6493506493506493"
            ]
          },
          "metadata": {},
          "execution_count": 177
        }
      ]
    },
    {
      "cell_type": "code",
      "source": [
        "from sklearn.metrics import confusion_matrix\n",
        "confusion_matrix(ytest, tf.round(preds))"
      ],
      "metadata": {
        "colab": {
          "base_uri": "https://localhost:8080/"
        },
        "id": "9ivZ-eWSoEKp",
        "outputId": "53fe0b23-a925-45d1-de43-a1612a80095b"
      },
      "execution_count": 178,
      "outputs": [
        {
          "output_type": "execute_result",
          "data": {
            "text/plain": [
              "array([[99,  0],\n",
              "       [54,  1]])"
            ]
          },
          "metadata": {},
          "execution_count": 178
        }
      ]
    },
    {
      "cell_type": "code",
      "source": [
        " from sklearn.metrics import classification_report\n",
        "\n",
        "target_names = ['class 0', 'class 1']\n",
        "print(classification_report(ytest, tf.round(preds), target_names=target_names))"
      ],
      "metadata": {
        "colab": {
          "base_uri": "https://localhost:8080/"
        },
        "id": "0Q4yAy3loIaX",
        "outputId": "def71089-6f39-403a-8da8-5abe0e364d36"
      },
      "execution_count": 179,
      "outputs": [
        {
          "output_type": "stream",
          "name": "stdout",
          "text": [
            "              precision    recall  f1-score   support\n",
            "\n",
            "     class 0       0.65      1.00      0.79        99\n",
            "     class 1       1.00      0.02      0.04        55\n",
            "\n",
            "    accuracy                           0.65       154\n",
            "   macro avg       0.82      0.51      0.41       154\n",
            "weighted avg       0.77      0.65      0.52       154\n",
            "\n"
          ]
        }
      ]
    },
    {
      "cell_type": "code",
      "source": [],
      "metadata": {
        "id": "MEmdtjiFo38D"
      },
      "execution_count": 179,
      "outputs": []
    }
  ]
}